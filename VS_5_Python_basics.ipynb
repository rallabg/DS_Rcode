{
  "cells": [
    {
      "cell_type": "markdown",
      "metadata": {
        "id": "view-in-github",
        "colab_type": "text"
      },
      "source": [
        "<a href=\"https://colab.research.google.com/github/rallabg/DS_Rcode/blob/main/VS_5_Python_basics.ipynb\" target=\"_parent\"><img src=\"https://colab.research.google.com/assets/colab-badge.svg\" alt=\"Open In Colab\"/></a>"
      ]
    },
    {
      "cell_type": "markdown",
      "id": "118ee4ea",
      "metadata": {
        "id": "118ee4ea"
      },
      "source": [
        "### Tuples"
      ]
    },
    {
      "cell_type": "markdown",
      "id": "fad4e06b",
      "metadata": {
        "id": "fad4e06b"
      },
      "source": [
        "* used to store multiple items seperated by comma\n",
        "* tuple is a collection of elements which is ordered and immutable."
      ]
    },
    {
      "cell_type": "code",
      "execution_count": null,
      "id": "f7b99854",
      "metadata": {
        "id": "f7b99854",
        "outputId": "8168193f-4fea-41b2-911e-ec72e06d2545"
      },
      "outputs": [
        {
          "name": "stdout",
          "output_type": "stream",
          "text": [
            "(1, 7, 13, 34, 5)\n"
          ]
        }
      ],
      "source": [
        "# Tuple having integers\n",
        "t1 = (1, 7, 13, 34,5)\n",
        "print(t1)"
      ]
    },
    {
      "cell_type": "code",
      "execution_count": null,
      "id": "0c2738da",
      "metadata": {
        "id": "0c2738da",
        "outputId": "fe5c05ae-a544-485e-fa8f-c5b45551cb7d"
      },
      "outputs": [
        {
          "name": "stdout",
          "output_type": "stream",
          "text": [
            "(1, 'Hello', 3.4)\n"
          ]
        }
      ],
      "source": [
        "# tuple with mixed datatypes\n",
        "t2 = (1, \"Hello\", 3.4)\n",
        "print(t2) "
      ]
    },
    {
      "cell_type": "code",
      "execution_count": null,
      "id": "b2f920e7",
      "metadata": {
        "id": "b2f920e7",
        "outputId": "0a96166c-1dcb-4755-bcf5-9304382bb16f"
      },
      "outputs": [
        {
          "data": {
            "text/plain": [
              "tuple"
            ]
          },
          "execution_count": 13,
          "metadata": {},
          "output_type": "execute_result"
        }
      ],
      "source": [
        "type(t2)"
      ]
    },
    {
      "cell_type": "code",
      "execution_count": null,
      "id": "ac04bc8e",
      "metadata": {
        "id": "ac04bc8e",
        "outputId": "3b61a8cd-ca25-4892-e96b-5f0065e8808c"
      },
      "outputs": [
        {
          "name": "stdout",
          "output_type": "stream",
          "text": [
            "(244, 456, 768, 23, 568, 22, 7, 6980, 444, 888)\n"
          ]
        }
      ],
      "source": [
        "#  concatenating 2 tuples\n",
        "  \n",
        "tuple1 = (244,456,768,23,568,22,7,6980)\n",
        "tuple2 = (444, 888)\n",
        "tuple3 = ('DA', 'DS')\n",
        "\n",
        "print(tuple1 + tuple2)"
      ]
    },
    {
      "cell_type": "code",
      "execution_count": null,
      "id": "28c0b03c",
      "metadata": {
        "id": "28c0b03c",
        "outputId": "0226309b-11a5-43d4-ac18-4068ca2dcd87"
      },
      "outputs": [
        {
          "data": {
            "text/plain": [
              "8"
            ]
          },
          "execution_count": 13,
          "metadata": {},
          "output_type": "execute_result"
        }
      ],
      "source": [
        "len(tuple1)"
      ]
    },
    {
      "cell_type": "code",
      "execution_count": null,
      "id": "17f0fedd",
      "metadata": {
        "id": "17f0fedd",
        "outputId": "0c385560-1712-42b3-c083-8a227056fca6"
      },
      "outputs": [
        {
          "data": {
            "text/plain": [
              "('DA', 'DS', 'DA', 'DS')"
            ]
          },
          "execution_count": 16,
          "metadata": {},
          "output_type": "execute_result"
        }
      ],
      "source": [
        "# repetition of elements\n",
        "tuple3 * 2"
      ]
    },
    {
      "cell_type": "code",
      "execution_count": null,
      "id": "f0daeb46",
      "metadata": {
        "id": "f0daeb46",
        "outputId": "52d1afcb-084e-4c83-b64d-5812055f451d"
      },
      "outputs": [
        {
          "data": {
            "text/plain": [
              "456"
            ]
          },
          "execution_count": 17,
          "metadata": {},
          "output_type": "execute_result"
        }
      ],
      "source": [
        "tuple1[1]"
      ]
    },
    {
      "cell_type": "code",
      "execution_count": null,
      "id": "c7793717",
      "metadata": {
        "id": "c7793717",
        "outputId": "d3dc3f47-b2e3-433c-b53d-b2ddae41882f"
      },
      "outputs": [
        {
          "data": {
            "text/plain": [
              "(23, 568, 22, 7, 6980)"
            ]
          },
          "execution_count": 18,
          "metadata": {},
          "output_type": "execute_result"
        }
      ],
      "source": [
        "tuple1[3:]"
      ]
    },
    {
      "cell_type": "code",
      "execution_count": null,
      "id": "a7e97ae9",
      "metadata": {
        "id": "a7e97ae9",
        "outputId": "1d5037c0-72b7-4938-ac3b-fbcf8be00c79"
      },
      "outputs": [
        {
          "data": {
            "text/plain": [
              "6980"
            ]
          },
          "execution_count": 19,
          "metadata": {},
          "output_type": "execute_result"
        }
      ],
      "source": [
        "tuple1[-1]"
      ]
    },
    {
      "cell_type": "code",
      "execution_count": null,
      "id": "de7cce19",
      "metadata": {
        "id": "de7cce19",
        "outputId": "c9d0810a-9936-4248-ce14-5355f5a146d9"
      },
      "outputs": [
        {
          "data": {
            "text/plain": [
              "(22, 7)"
            ]
          },
          "execution_count": 20,
          "metadata": {},
          "output_type": "execute_result"
        }
      ],
      "source": [
        "tuple1[5:-1]"
      ]
    },
    {
      "cell_type": "code",
      "execution_count": null,
      "id": "260dcfaf",
      "metadata": {
        "id": "260dcfaf",
        "outputId": "861c2117-b8ad-4690-b68c-fb406cfcf12d"
      },
      "outputs": [
        {
          "ename": "TypeError",
          "evalue": "'tuple' object does not support item assignment",
          "output_type": "error",
          "traceback": [
            "\u001b[1;31m---------------------------------------------------------------------------\u001b[0m",
            "\u001b[1;31mTypeError\u001b[0m                                 Traceback (most recent call last)",
            "\u001b[1;32m~\\AppData\\Local\\Temp/ipykernel_19884/3024674043.py\u001b[0m in \u001b[0;36m<module>\u001b[1;34m\u001b[0m\n\u001b[0;32m      1\u001b[0m \u001b[1;31m## immutable\u001b[0m\u001b[1;33m\u001b[0m\u001b[1;33m\u001b[0m\u001b[0m\n\u001b[0;32m      2\u001b[0m \u001b[1;33m\u001b[0m\u001b[0m\n\u001b[1;32m----> 3\u001b[1;33m \u001b[0mtuple1\u001b[0m\u001b[1;33m[\u001b[0m\u001b[1;36m1\u001b[0m\u001b[1;33m]\u001b[0m \u001b[1;33m=\u001b[0m \u001b[1;36m100\u001b[0m\u001b[1;33m\u001b[0m\u001b[1;33m\u001b[0m\u001b[0m\n\u001b[0m",
            "\u001b[1;31mTypeError\u001b[0m: 'tuple' object does not support item assignment"
          ]
        }
      ],
      "source": [
        "## immutable \n",
        "\n",
        "tuple1[1] = 100"
      ]
    },
    {
      "cell_type": "markdown",
      "id": "3a87ba8a",
      "metadata": {
        "id": "3a87ba8a"
      },
      "source": [
        "### List\n"
      ]
    },
    {
      "cell_type": "markdown",
      "id": "c3ed9692",
      "metadata": {
        "id": "c3ed9692"
      },
      "source": [
        "* store multiple items in a single variable\n",
        "* ordered, it means that the items have a defined order, and that order will not change\n",
        "* If you add new items to a list, the new items will be placed at the end of the list\n",
        "* mutable"
      ]
    },
    {
      "cell_type": "code",
      "execution_count": null,
      "id": "d2ff1ce4",
      "metadata": {
        "id": "d2ff1ce4",
        "outputId": "c7ac1bba-342b-4203-a5e3-f2f7efe99077"
      },
      "outputs": [
        {
          "data": {
            "text/plain": [
              "['apple', 'banana', 'grapes', 'apple', 'mango']"
            ]
          },
          "execution_count": 24,
          "metadata": {},
          "output_type": "execute_result"
        }
      ],
      "source": [
        "l1 = [\"apple\", \"banana\", \"grapes\", \"apple\", \"mango\"]\n",
        "l1"
      ]
    },
    {
      "cell_type": "code",
      "execution_count": null,
      "id": "b9efd9b6",
      "metadata": {
        "id": "b9efd9b6",
        "outputId": "29b170a7-68e9-4124-a521-7c046219c5d5"
      },
      "outputs": [
        {
          "data": {
            "text/plain": [
              "5"
            ]
          },
          "execution_count": 25,
          "metadata": {},
          "output_type": "execute_result"
        }
      ],
      "source": [
        "len(l1)"
      ]
    },
    {
      "cell_type": "code",
      "execution_count": null,
      "id": "045682fb",
      "metadata": {
        "id": "045682fb",
        "outputId": "a8c7f7aa-4ef8-4038-ed8d-ab290ea40db5"
      },
      "outputs": [
        {
          "data": {
            "text/plain": [
              "['a', 34, True, 40, 'd']"
            ]
          },
          "execution_count": 26,
          "metadata": {},
          "output_type": "execute_result"
        }
      ],
      "source": [
        "l2 = [\"a\", 34, True, 40, \"d\"]\n",
        "l2"
      ]
    },
    {
      "cell_type": "code",
      "execution_count": null,
      "id": "1839c767",
      "metadata": {
        "id": "1839c767",
        "outputId": "84c6cbf7-4305-46fa-9a6b-c8278169768f"
      },
      "outputs": [
        {
          "data": {
            "text/plain": [
              "['a', 34, True, 40, 'd', 100]"
            ]
          },
          "execution_count": 27,
          "metadata": {},
          "output_type": "execute_result"
        }
      ],
      "source": [
        "l2.append(100)\n",
        "l2"
      ]
    },
    {
      "cell_type": "markdown",
      "id": "76e50807",
      "metadata": {
        "id": "76e50807"
      },
      "source": [
        "### Sets"
      ]
    },
    {
      "cell_type": "markdown",
      "id": "e3883de2",
      "metadata": {
        "id": "e3883de2"
      },
      "source": [
        "* Set is an unordered collection data type that is iterable, mutable and has no duplicate elements"
      ]
    },
    {
      "cell_type": "code",
      "execution_count": null,
      "id": "d46f8f6c",
      "metadata": {
        "id": "d46f8f6c",
        "outputId": "124419e8-1846-4f43-84e4-8e5ebd990a01"
      },
      "outputs": [
        {
          "data": {
            "text/plain": [
              "{'a', 'b', 'c'}"
            ]
          },
          "execution_count": 28,
          "metadata": {},
          "output_type": "execute_result"
        }
      ],
      "source": [
        "s1 = set([\"a\", \"b\", \"c\"])\n",
        "s1"
      ]
    },
    {
      "cell_type": "code",
      "execution_count": null,
      "id": "d5346167",
      "metadata": {
        "id": "d5346167",
        "outputId": "473bfaf9-f100-4650-8bd8-d82f3b14e076"
      },
      "outputs": [
        {
          "data": {
            "text/plain": [
              "{'a', 'b', 'c', 'd'}"
            ]
          },
          "execution_count": 29,
          "metadata": {},
          "output_type": "execute_result"
        }
      ],
      "source": [
        "# Adding element to the set\n",
        "s1.add(\"d\")\n",
        "s1"
      ]
    },
    {
      "cell_type": "code",
      "execution_count": null,
      "id": "18089b25",
      "metadata": {
        "id": "18089b25",
        "outputId": "0dadd6f8-e500-4b51-ce0c-5a83db5212e0"
      },
      "outputs": [
        {
          "data": {
            "text/plain": [
              "{(10, 20, 30), 1.0, 'Hello'}"
            ]
          },
          "execution_count": 30,
          "metadata": {},
          "output_type": "execute_result"
        }
      ],
      "source": [
        "s2 = {1.0, \"Hello\", (10, 20, 30)}\n",
        "s2"
      ]
    },
    {
      "cell_type": "code",
      "execution_count": null,
      "id": "84a3c47f",
      "metadata": {
        "id": "84a3c47f",
        "outputId": "fa2d61c1-cbc4-497d-dd34-1aa73275252c"
      },
      "outputs": [
        {
          "data": {
            "text/plain": [
              "{10, 20, 30, 40}"
            ]
          },
          "execution_count": 31,
          "metadata": {},
          "output_type": "execute_result"
        }
      ],
      "source": [
        "s3 = {10, 20, 30, 40, 30, 20}\n",
        "s3"
      ]
    },
    {
      "cell_type": "markdown",
      "id": "be68bef2",
      "metadata": {
        "id": "be68bef2"
      },
      "source": [
        "## Dictionary"
      ]
    },
    {
      "cell_type": "markdown",
      "id": "5a57928b",
      "metadata": {
        "id": "5a57928b"
      },
      "source": [
        "* ordered, mutable and do not allow duplicate elements\n",
        "* Values in a dictionary can be of any data type and can be duplicated, whereas keys can’t be repeated."
      ]
    },
    {
      "cell_type": "code",
      "execution_count": null,
      "id": "db4b2a69",
      "metadata": {
        "id": "db4b2a69",
        "outputId": "4904ee05-56c1-4c70-ab3e-223f7604c49d"
      },
      "outputs": [
        {
          "data": {
            "text/plain": [
              "{'key1': 'item1', 'key2': 'item2'}"
            ]
          },
          "execution_count": 1,
          "metadata": {},
          "output_type": "execute_result"
        }
      ],
      "source": [
        "d1 = {'key1':'item1','key2':'item2'}\n",
        "d1"
      ]
    },
    {
      "cell_type": "code",
      "execution_count": null,
      "id": "6be7820a",
      "metadata": {
        "id": "6be7820a",
        "outputId": "b9062ee7-221f-486b-d4a1-7d264477c956"
      },
      "outputs": [
        {
          "data": {
            "text/plain": [
              "{'name': ['A', 'B', 'C'], 'age': [26, 25, 27]}"
            ]
          },
          "execution_count": 2,
          "metadata": {},
          "output_type": "execute_result"
        }
      ],
      "source": [
        "d2 = {'name': ['A','B','C'], 'age': [26, 25, 27]}\n",
        "d2"
      ]
    },
    {
      "cell_type": "code",
      "execution_count": null,
      "id": "d85aa62f",
      "metadata": {
        "id": "d85aa62f",
        "outputId": "2760d904-4cde-42bd-9d04-c5c914c6b51f"
      },
      "outputs": [
        {
          "data": {
            "text/plain": [
              "['A', 'B', 'C']"
            ]
          },
          "execution_count": 3,
          "metadata": {},
          "output_type": "execute_result"
        }
      ],
      "source": [
        "d2.get('name')"
      ]
    },
    {
      "cell_type": "code",
      "execution_count": null,
      "id": "9cb6d130",
      "metadata": {
        "id": "9cb6d130",
        "outputId": "f1bfe2c0-2ee0-4aa3-906e-1c743acbcdbf"
      },
      "outputs": [
        {
          "data": {
            "text/plain": [
              "dict_keys(['name', 'age'])"
            ]
          },
          "execution_count": 4,
          "metadata": {},
          "output_type": "execute_result"
        }
      ],
      "source": [
        "d2.keys()"
      ]
    },
    {
      "cell_type": "code",
      "execution_count": null,
      "id": "9d7d07d8",
      "metadata": {
        "id": "9d7d07d8",
        "outputId": "0de87ad9-ebde-4536-a861-da4a76dd8665"
      },
      "outputs": [
        {
          "data": {
            "text/plain": [
              "dict_values([['A', 'B', 'C'], [26, 25, 27]])"
            ]
          },
          "execution_count": 5,
          "metadata": {},
          "output_type": "execute_result"
        }
      ],
      "source": [
        "d2.values()"
      ]
    },
    {
      "cell_type": "code",
      "execution_count": null,
      "id": "559d43e5",
      "metadata": {
        "id": "559d43e5"
      },
      "outputs": [],
      "source": [
        "d2['dept.'] = ['D1', 'D2', 'D3']"
      ]
    },
    {
      "cell_type": "code",
      "execution_count": null,
      "id": "9c8ed837",
      "metadata": {
        "id": "9c8ed837",
        "outputId": "b0b09ea9-3d47-4925-a056-e0a29422f5f8"
      },
      "outputs": [
        {
          "data": {
            "text/plain": [
              "{'name': ['A', 'B', 'C'], 'age': [26, 25, 27], 'dept.': ['D1', 'D2', 'D3']}"
            ]
          },
          "execution_count": 10,
          "metadata": {},
          "output_type": "execute_result"
        }
      ],
      "source": [
        "d2"
      ]
    },
    {
      "cell_type": "code",
      "execution_count": null,
      "id": "03c2333a",
      "metadata": {
        "id": "03c2333a"
      },
      "outputs": [],
      "source": []
    },
    {
      "cell_type": "code",
      "execution_count": null,
      "id": "0406b3f9",
      "metadata": {
        "id": "0406b3f9"
      },
      "outputs": [],
      "source": [
        "###"
      ]
    },
    {
      "cell_type": "code",
      "execution_count": null,
      "id": "2d707eb8",
      "metadata": {
        "id": "2d707eb8"
      },
      "outputs": [],
      "source": [
        "### List Comprehension \n",
        "## shorter way to filter out records from a given list\n",
        "\n",
        "def odd_num(x,y):\n",
        "    return([a for a in range(x,y) if a%2!=0])"
      ]
    },
    {
      "cell_type": "code",
      "execution_count": null,
      "id": "2f2fca93",
      "metadata": {
        "id": "2f2fca93",
        "outputId": "6999c758-d0b4-4e3b-bf1f-ac9e9d39dd3a"
      },
      "outputs": [
        {
          "data": {
            "text/plain": [
              "[1, 3, 5, 7, 9]"
            ]
          },
          "execution_count": 41,
          "metadata": {},
          "output_type": "execute_result"
        }
      ],
      "source": [
        "odd_num(1,10)"
      ]
    },
    {
      "cell_type": "code",
      "execution_count": null,
      "id": "d5088d36",
      "metadata": {
        "id": "d5088d36",
        "outputId": "61bb3e91-b957-4312-e891-f7eb3e5bf6bb"
      },
      "outputs": [
        {
          "data": {
            "text/plain": [
              "['apple', 'banana', 'grapes', 'apple', 'mango']"
            ]
          },
          "execution_count": 42,
          "metadata": {},
          "output_type": "execute_result"
        }
      ],
      "source": [
        "l1"
      ]
    },
    {
      "cell_type": "code",
      "execution_count": null,
      "id": "8d44f9cb",
      "metadata": {
        "id": "8d44f9cb",
        "outputId": "a4fae2d7-c8a9-47e6-e485-9dd2612377a6"
      },
      "outputs": [
        {
          "data": {
            "text/plain": [
              "['banana', 'grapes', 'mango']"
            ]
          },
          "execution_count": 43,
          "metadata": {},
          "output_type": "execute_result"
        }
      ],
      "source": [
        "[fruits for fruits in l1 if fruits!='apple']"
      ]
    },
    {
      "cell_type": "code",
      "execution_count": null,
      "id": "a616ddb1",
      "metadata": {
        "id": "a616ddb1",
        "outputId": "dfac2c94-5b33-4747-bf92-f607cb707e3e"
      },
      "outputs": [
        {
          "data": {
            "text/plain": [
              "[0, 1, 4, 9, 16, 25, 36, 49, 64, 81]"
            ]
          },
          "execution_count": 44,
          "metadata": {},
          "output_type": "execute_result"
        }
      ],
      "source": [
        "squares = []\n",
        "for i in range(10):\n",
        "    squares.append(i * i)\n",
        "squares"
      ]
    },
    {
      "cell_type": "code",
      "execution_count": null,
      "id": "48702495",
      "metadata": {
        "id": "48702495",
        "outputId": "442e50b8-b410-4c42-89f4-b3280f62b66b"
      },
      "outputs": [
        {
          "data": {
            "text/plain": [
              "[0, 1, 4, 9, 16, 25, 36, 49, 64, 81]"
            ]
          },
          "execution_count": 52,
          "metadata": {},
          "output_type": "execute_result"
        }
      ],
      "source": [
        "[x**2 for x in range(10)]"
      ]
    },
    {
      "cell_type": "code",
      "execution_count": null,
      "id": "c027c931",
      "metadata": {
        "id": "c027c931",
        "outputId": "85db7fa9-6d56-47ab-fcab-5ad23cc21626"
      },
      "outputs": [
        {
          "data": {
            "text/plain": [
              "[['Everest', 8848]]"
            ]
          },
          "execution_count": 53,
          "metadata": {},
          "output_type": "execute_result"
        }
      ],
      "source": [
        "mountains = [\n",
        "    ['Makalu', 8485],\n",
        "    ['Lhotse', 8516],\n",
        "    ['Kanchendzonga', 8586],\n",
        "    ['K2', 8611],\n",
        "    ['Everest', 8848]\n",
        "]\n",
        "\n",
        "\n",
        "\n",
        "[x for x in mountains if x[1] > 8800]\n"
      ]
    },
    {
      "cell_type": "code",
      "execution_count": null,
      "id": "26c20d70",
      "metadata": {
        "id": "26c20d70"
      },
      "outputs": [],
      "source": []
    },
    {
      "cell_type": "code",
      "execution_count": null,
      "id": "d050c2fe",
      "metadata": {
        "id": "d050c2fe"
      },
      "outputs": [],
      "source": []
    },
    {
      "cell_type": "code",
      "execution_count": null,
      "id": "5e147933",
      "metadata": {
        "id": "5e147933"
      },
      "outputs": [],
      "source": []
    },
    {
      "cell_type": "code",
      "execution_count": null,
      "id": "0bab5872",
      "metadata": {
        "id": "0bab5872"
      },
      "outputs": [],
      "source": []
    },
    {
      "cell_type": "code",
      "execution_count": null,
      "id": "cfa2d9de",
      "metadata": {
        "id": "cfa2d9de"
      },
      "outputs": [],
      "source": []
    },
    {
      "cell_type": "code",
      "execution_count": null,
      "id": "6794e2f3",
      "metadata": {
        "id": "6794e2f3"
      },
      "outputs": [],
      "source": []
    }
  ],
  "metadata": {
    "kernelspec": {
      "display_name": "Python 3 (ipykernel)",
      "language": "python",
      "name": "python3"
    },
    "language_info": {
      "codemirror_mode": {
        "name": "ipython",
        "version": 3
      },
      "file_extension": ".py",
      "mimetype": "text/x-python",
      "name": "python",
      "nbconvert_exporter": "python",
      "pygments_lexer": "ipython3",
      "version": "3.9.12"
    },
    "colab": {
      "provenance": [],
      "include_colab_link": true
    }
  },
  "nbformat": 4,
  "nbformat_minor": 5
}